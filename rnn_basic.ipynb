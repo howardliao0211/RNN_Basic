{
 "cells": [
  {
   "cell_type": "code",
   "execution_count": 66,
   "id": "909163fa",
   "metadata": {},
   "outputs": [],
   "source": [
    "import torch\n",
    "import torch.nn as nn\n",
    "from dataclasses import dataclass, field\n",
    "from typing import List\n",
    "from collections import Counter"
   ]
  },
  {
   "cell_type": "markdown",
   "id": "4e73f466",
   "metadata": {},
   "source": [
    "## RNN Basic\n",
    "### Token\n",
    "For language model, we need to tokenize our words (or characters) into number. We can tokenize our inputs based on each input's frequency. We tokenize our input based on input's frequency because this allow computer to cache more frequently used words and improve training efficiency:"
   ]
  },
  {
   "cell_type": "code",
   "execution_count": 67,
   "id": "9428d87f",
   "metadata": {},
   "outputs": [],
   "source": [
    "import string\n",
    "import unicodedata\n",
    "\n",
    "\n",
    "# Turn a Unicode string to plain ASCII, thanks to https://stackoverflow.com/a/518232/2809427\n",
    "def unicode_to_ascii(s):\n",
    "    allowed_characters = string.ascii_letters\n",
    "    return ''.join(\n",
    "        c for c in unicodedata.normalize('NFD', s)\n",
    "        if unicodedata.category(c) != 'Mn'\n",
    "        and c in allowed_characters\n",
    "    )\n",
    "\n",
    "class Tokenizer:\n",
    "\n",
    "    def __init__(self, tokens:List[str], reserved_tokens:List[str]=[], min_freq:int=0) -> None:\n",
    "        self.unk = '<unk>'\n",
    "        self.reserved_tokens = reserved_tokens\n",
    "\n",
    "        counter = Counter(tokens)\n",
    "        tokens_freq = sorted(counter.items(), key=lambda token:token[1], reverse=True)\n",
    "        sorted_tokens = list([self.unk] + self.reserved_tokens + [\n",
    "            token for token, freq in tokens_freq if freq > min_freq\n",
    "        ])\n",
    "\n",
    "        self.token_to_idx = {\n",
    "            token:index for index, token in enumerate(sorted_tokens)\n",
    "        }\n",
    "\n",
    "        self.idx_to_token = {\n",
    "            index:token for index, token, in enumerate(sorted_tokens)\n",
    "        }\n",
    "\n",
    "    def to_idx(self, token:str) -> int:\n",
    "        if token not in self.token_to_idx:\n",
    "            return self.token_to_idx[self.unk]\n",
    "\n",
    "        return self.token_to_idx[token]\n",
    "    \n",
    "    def to_token(self, idx:int) -> str:\n",
    "        if idx not in self.idx_to_token:\n",
    "            return self.unk\n",
    "\n",
    "        return self.idx_to_token[idx]\n",
    "    \n",
    "    def get_most_frequent(self, n: int) -> List[str]:\n",
    "        res = []\n",
    "        start_idx = len(self.unk) + len(self.reserved_tokens)\n",
    "        for idx in range(n):\n",
    "            res.append(self.to_token(start_idx + idx))\n",
    "        return res\n",
    "    \n",
    "    def __getitem__(self, index):\n",
    "        if isinstance(index, (list, tuple, slice)):\n",
    "            return [self.__getitem__(i) for i in index]\n",
    "        return self.to_idx(index)\n",
    "\n",
    "    def __len__(self) -> int:\n",
    "        return len(self.token_to_idx)"
   ]
  },
  {
   "cell_type": "markdown",
   "id": "936db287",
   "metadata": {},
   "source": [
    "### Construct Dataset\n",
    "We devided the input text into segments with the length of num_inputs."
   ]
  },
  {
   "cell_type": "code",
   "execution_count": 68,
   "id": "3c8c61e7",
   "metadata": {},
   "outputs": [
    {
     "data": {
      "text/plain": [
       "(14058, 3515)"
      ]
     },
     "execution_count": 68,
     "metadata": {},
     "output_type": "execute_result"
    }
   ],
   "source": [
    "from torch.utils.data import Dataset, DataLoader\n",
    "from pathlib import Path\n",
    "class TextDataset(Dataset):\n",
    "\n",
    "    def __init__(self, text_file:Path, num_inputs:int) -> None:\n",
    "        super().__init__()\n",
    "        \n",
    "        with text_file.open('r') as f:\n",
    "            text = f.read()\n",
    "            splitted_text = text.split()\n",
    "            splitted_text = [self.preprocess_text(text).lower() for text in splitted_text]\n",
    "\n",
    "        self.tokenizer = Tokenizer(splitted_text)\n",
    "        tokenized = [self.tokenizer.to_idx(text) for text in splitted_text]\n",
    "\n",
    "        array = torch.tensor([tokenized[i:i+num_inputs+1]\n",
    "                        for i in range(len(tokenized)-num_inputs)])\n",
    "        self.X, self.Y = array[:,:-1], array[:,-1:]\n",
    "\n",
    "    def preprocess_text(self, text) -> List[str]:\n",
    "        return unicode_to_ascii(text)\n",
    "    \n",
    "    def __getitem__(self, index):\n",
    "        if isinstance(index, (list, tuple)):\n",
    "            return [self.__getitem__(idx) for idx in index]\n",
    "        elif isinstance(index, slice):\n",
    "            return [self.__getitem__(idx) for idx in range(*index.indices(len(self)))]\n",
    "        return (self.X[index], self.Y[index])\n",
    "    \n",
    "    def __len__(self) -> int:\n",
    "        return len(self.X)\n",
    "\n",
    "dataset = TextDataset(Path(r'shakespeare.txt'), 16)\n",
    "train_num = int(len(dataset) * 0.8)\n",
    "train_dataset = dataset[:train_num]\n",
    "valid_dataset = dataset[train_num:]\n",
    "\n",
    "train_loader = DataLoader(dataset=train_dataset,\n",
    "                          batch_size=64,\n",
    "                          shuffle=True,\n",
    "                          num_workers=2)\n",
    "\n",
    "test_loader = DataLoader(dataset=valid_dataset,\n",
    "                         batch_size=64,\n",
    "                         shuffle=False,\n",
    "                         num_workers=True)\n",
    "\n",
    "len(train_dataset), len(valid_dataset)\n",
    "\n",
    "\n"
   ]
  },
  {
   "cell_type": "markdown",
   "id": "5417588f",
   "metadata": {},
   "source": [
    "### Language Model\n",
    "Let each input in time t denoted as $x_t$. Our goal is to predict $x_t$ given $x_0, x_1, ..., x_{t-1}$.\n",
    "The probability of a sequence of words with length t will then be:\n",
    "$$\n",
    "P(x_1, x_2, ..., x_t) = P(x_1) * \\prod_{t=2}^T P(x_t  \\mid  x_1, \\ldots, x_{t-1})\n",
    "$$\n",
    "\n",
    "The probability of $x_1$ is $P(x_1)$.\n",
    "\n",
    "The probability of $x_1$ and $x_2$ is $P(x_1, x_2) = P(x_2 | x_1) * P(x_1)$.\n",
    "\n",
    "That is, the joint probability of $x_1$ and $x_2$ is just the probability of $x_1$ times the probability of $x_2$ given $x_1$.\n",
    "\n",
    "We can treat the output of the model at each stage as the probability of $x_t$ given $x_1, ..., x_{t-1}$\n",
    "\n",
    "### Perplexity\n",
    "We can measure the cross-entropy loss averaged over all the tokens of a sequence with perplexity:\n",
    "$$\\frac{1}{n} \\sum_{t=1}^n -\\log P(x_t \\mid x_{t-1}, \\ldots, x_1),$$\n",
    "where $P$ is given by a language model and $x_t$ is the actual token observed at time step $t$ from the sequence.\n",
    "This makes the performance on documents of different lengths comparable. For historical reasons, scientists in natural language processing prefer to use a quantity called *perplexity*:\n",
    "\n",
    "$$\\exp\\left(-\\frac{1}{n} \\sum_{t=1}^n \\log P(x_t \\mid x_{t-1}, \\ldots, x_1)\\right)$$"
   ]
  },
  {
   "cell_type": "markdown",
   "id": "684eeecf",
   "metadata": {},
   "source": [
    "### RNN Model\n",
    "RNN model is similar to MLP. The key difference is that instead of using hidden layer, RNN typically uses hidden states to store all the features from the previous samples. At each batch, the hidden state from the last batch will be multiplied with the current input to compute the current hiddent state. The current hidden state will then be multiplied by a weight to compute the output of the current stage.\n",
    "\n",
    "\n",
    "![screenshot](resources/rnn_with_hidden_state.png)"
   ]
  },
  {
   "cell_type": "code",
   "execution_count": null,
   "id": "5d9854c8",
   "metadata": {},
   "outputs": [
    {
     "ename": "SyntaxError",
     "evalue": "expected ':' (455776164.py, line 1)",
     "output_type": "error",
     "traceback": [
      "  \u001b[36mCell\u001b[39m\u001b[36m \u001b[39m\u001b[32mIn[69]\u001b[39m\u001b[32m, line 1\u001b[39m\n\u001b[31m    \u001b[39m\u001b[31mclass RNN_Scratch()\u001b[39m\n                       ^\n\u001b[31mSyntaxError\u001b[39m\u001b[31m:\u001b[39m expected ':'\n"
     ]
    }
   ],
   "source": [
    "class RNN_Scratch(nn.Module):\n",
    "\n",
    "    def __init__(self, num_inputs:int, num_hiddens:int):\n",
    "        super().__init__()\n"
   ]
  }
 ],
 "metadata": {
  "kernelspec": {
   "display_name": ".venv",
   "language": "python",
   "name": "python3"
  },
  "language_info": {
   "codemirror_mode": {
    "name": "ipython",
    "version": 3
   },
   "file_extension": ".py",
   "mimetype": "text/x-python",
   "name": "python",
   "nbconvert_exporter": "python",
   "pygments_lexer": "ipython3",
   "version": "3.12.2"
  }
 },
 "nbformat": 4,
 "nbformat_minor": 5
}
